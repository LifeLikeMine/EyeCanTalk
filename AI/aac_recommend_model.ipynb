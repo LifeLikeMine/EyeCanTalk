{
 "cells": [
  {
   "cell_type": "code",
   "execution_count": 73,
   "metadata": {},
   "outputs": [],
   "source": [
    "import pandas as pd \n",
    "import numpy as np\n",
    "import mysql.connector\n",
    "\n",
    "# MySQL Server에 연결\n",
    "mydb = mysql.connector.connect()\n"
   ]
  },
  {
   "cell_type": "code",
   "execution_count": 63,
   "metadata": {},
   "outputs": [],
   "source": [
    "import tensorflow as tf\n",
    "from tensorflow import keras\n",
    "from tensorflow import keras\n",
    "from tensorflow.keras.layers import Dense, Flatten, SimpleRNN\n",
    "from tensorflow.keras.layers import Input, LSTM, GRU\n",
    "from tensorflow.keras.layers import Bidirectional, Conv1D, MaxPool1D\n",
    "from tensorflow.keras.models import Sequential, Model\n",
    "from tensorflow.keras.backend import clear_session\n",
    "from tensorflow.keras.callbacks import ReduceLROnPlateau, EarlyStopping"
   ]
  },
  {
   "cell_type": "code",
   "execution_count": 45,
   "metadata": {},
   "outputs": [
    {
     "data": {
      "text/plain": [
       "True"
      ]
     },
     "execution_count": 45,
     "metadata": {},
     "output_type": "execute_result"
    }
   ],
   "source": [
    "aac_df = pd.read_csv('./aac_list(2).csv')\n",
    "\n",
    "mycursor = mydb.cursor()\n",
    "mycursor.execute(\"SELECT * FROM user_aac_history\")\n",
    "\n",
    "# 모든 결과를 소비\n",
    "result = mycursor.fetchall()\n",
    "\n",
    "# 데이터 프레임 생성\n",
    "columns = [desc[0] for desc in mycursor.description]\n",
    "aac_history_df = pd.DataFrame(result, columns=columns)\n",
    "\n",
    "# 커서를 닫습니다.\n",
    "mycursor.close()\n"
   ]
  },
  {
   "cell_type": "code",
   "execution_count": 46,
   "metadata": {},
   "outputs": [],
   "source": [
    "def parse_aac_id(aac_id_str):\n",
    "    return [int(num.strip('\"')) for num in aac_id_str.split(',')]\n",
    "\n",
    "# 'aac_id' 열 값을 숫자 배열로 변환\n",
    "aac_history_df['aac_id'] = aac_history_df['aac_id'].apply(parse_aac_id)"
   ]
  },
  {
   "cell_type": "code",
   "execution_count": 47,
   "metadata": {},
   "outputs": [
    {
     "data": {
      "text/html": [
       "<div>\n",
       "<style scoped>\n",
       "    .dataframe tbody tr th:only-of-type {\n",
       "        vertical-align: middle;\n",
       "    }\n",
       "\n",
       "    .dataframe tbody tr th {\n",
       "        vertical-align: top;\n",
       "    }\n",
       "\n",
       "    .dataframe thead th {\n",
       "        text-align: right;\n",
       "    }\n",
       "</style>\n",
       "<table border=\"1\" class=\"dataframe\">\n",
       "  <thead>\n",
       "    <tr style=\"text-align: right;\">\n",
       "      <th></th>\n",
       "      <th>user_id</th>\n",
       "      <th>aac_id</th>\n",
       "      <th>id</th>\n",
       "    </tr>\n",
       "  </thead>\n",
       "  <tbody>\n",
       "    <tr>\n",
       "      <th>0</th>\n",
       "      <td>1</td>\n",
       "      <td>[1, 9, 5, 3, 1]</td>\n",
       "      <td>2</td>\n",
       "    </tr>\n",
       "    <tr>\n",
       "      <th>1</th>\n",
       "      <td>1</td>\n",
       "      <td>[4, 6, 3, 1]</td>\n",
       "      <td>3</td>\n",
       "    </tr>\n",
       "    <tr>\n",
       "      <th>2</th>\n",
       "      <td>1</td>\n",
       "      <td>[8, 1, 6, 3]</td>\n",
       "      <td>4</td>\n",
       "    </tr>\n",
       "    <tr>\n",
       "      <th>3</th>\n",
       "      <td>1</td>\n",
       "      <td>[1, 2, 4, 7]</td>\n",
       "      <td>5</td>\n",
       "    </tr>\n",
       "    <tr>\n",
       "      <th>4</th>\n",
       "      <td>1</td>\n",
       "      <td>[9, 6, 5]</td>\n",
       "      <td>6</td>\n",
       "    </tr>\n",
       "  </tbody>\n",
       "</table>\n",
       "</div>"
      ],
      "text/plain": [
       "   user_id           aac_id  id\n",
       "0        1  [1, 9, 5, 3, 1]   2\n",
       "1        1     [4, 6, 3, 1]   3\n",
       "2        1     [8, 1, 6, 3]   4\n",
       "3        1     [1, 2, 4, 7]   5\n",
       "4        1        [9, 6, 5]   6"
      ]
     },
     "execution_count": 47,
     "metadata": {},
     "output_type": "execute_result"
    }
   ],
   "source": [
    "aac_history_df.head()"
   ]
  },
  {
   "cell_type": "code",
   "execution_count": 49,
   "metadata": {},
   "outputs": [
    {
     "name": "stdout",
     "output_type": "stream",
     "text": [
      "[[1, 9, 5, 3, 1], [4, 6, 3, 1], [8, 1, 6, 3], [1, 2, 4, 7], [9, 6, 5]]\n"
     ]
    },
    {
     "data": {
      "text/plain": [
       "[[1, 9],\n",
       " [1, 9, 5],\n",
       " [1, 9, 5, 3],\n",
       " [1, 9, 5, 3, 1],\n",
       " [4, 6],\n",
       " [4, 6, 3],\n",
       " [4, 6, 3, 1],\n",
       " [8, 1],\n",
       " [8, 1, 6],\n",
       " [8, 1, 6, 3],\n",
       " [1, 2],\n",
       " [1, 2, 4],\n",
       " [1, 2, 4, 7],\n",
       " [9, 6],\n",
       " [9, 6, 5]]"
      ]
     },
     "execution_count": 49,
     "metadata": {},
     "output_type": "execute_result"
    }
   ],
   "source": [
    "temp = aac_history_df['aac_id'].tolist()\n",
    "print(temp)\n",
    "temp_ = []\n",
    "\n",
    "for seq in temp :\n",
    "    for i in range(1, len(seq)):\n",
    "        temp_.append( seq[:i+1]    )\n",
    "\n",
    "aac_seq = temp_\n",
    "aac_seq[:20]"
   ]
  },
  {
   "cell_type": "code",
   "execution_count": 67,
   "metadata": {},
   "outputs": [
    {
     "data": {
      "text/plain": [
       "array([[0, 0, 0, 1, 9],\n",
       "       [0, 0, 1, 9, 5],\n",
       "       [0, 1, 9, 5, 3],\n",
       "       [1, 9, 5, 3, 1],\n",
       "       [0, 0, 0, 4, 6],\n",
       "       [0, 0, 4, 6, 3],\n",
       "       [0, 4, 6, 3, 1],\n",
       "       [0, 0, 0, 8, 1],\n",
       "       [0, 0, 8, 1, 6],\n",
       "       [0, 8, 1, 6, 3],\n",
       "       [0, 0, 0, 1, 2],\n",
       "       [0, 0, 1, 2, 4],\n",
       "       [0, 1, 2, 4, 7],\n",
       "       [0, 0, 0, 9, 6],\n",
       "       [0, 0, 9, 6, 5]])"
      ]
     },
     "execution_count": 67,
     "metadata": {},
     "output_type": "execute_result"
    }
   ],
   "source": [
    "####################\n",
    "## Your Code here ##\n",
    "####################\n",
    "from keras.preprocessing.sequence import pad_sequences #문장길이통일기\n",
    "\n",
    "max_len = max( [ len(seq) for seq in aac_seq]      )\n",
    "aac_seq = pad_sequences(aac_seq, maxlen=max_len, padding='pre')\n",
    "aac_seq"
   ]
  },
  {
   "cell_type": "code",
   "execution_count": 79,
   "metadata": {},
   "outputs": [],
   "source": [
    "x = aac_seq[:, : -1] \n",
    "y = aac_seq[:, -1]\n",
    "x = np.array(x)\n",
    "x = x.reshape(x.shape[0], x.shape[1], 1)\n"
   ]
  },
  {
   "cell_type": "code",
   "execution_count": 80,
   "metadata": {},
   "outputs": [],
   "source": [
    "from sklearn.model_selection import train_test_split\n",
    "train_x, test_x, train_y, test_y = train_test_split(x,y, test_size=0.3)\n",
    "train_x, val_x, train_y, val_y  = train_test_split(train_x,train_y, test_size=0.1)"
   ]
  },
  {
   "cell_type": "code",
   "execution_count": 69,
   "metadata": {},
   "outputs": [],
   "source": [
    "from keras.utils import to_categorical\n",
    "\n",
    "# 나중에 total_aac 로 원핫인코딩\n",
    "# y = to_categorical(y, num_classes = total_aac)"
   ]
  },
  {
   "cell_type": "code",
   "execution_count": 84,
   "metadata": {},
   "outputs": [
    {
     "name": "stdout",
     "output_type": "stream",
     "text": [
      "Model: \"sequential\"\n",
      "_________________________________________________________________\n",
      " Layer (type)                Output Shape              Param #   \n",
      "=================================================================\n",
      " lstm (LSTM)                 (None, 64)                16896     \n",
      "                                                                 \n",
      " dense (Dense)               (None, 32)                2080      \n",
      "                                                                 \n",
      " dense_1 (Dense)             (None, 16)                528       \n",
      "                                                                 \n",
      " dense_2 (Dense)             (None, 1)                 17        \n",
      "                                                                 \n",
      "=================================================================\n",
      "Total params: 19521 (76.25 KB)\n",
      "Trainable params: 19521 (76.25 KB)\n",
      "Non-trainable params: 0 (0.00 Byte)\n",
      "_________________________________________________________________\n"
     ]
    }
   ],
   "source": [
    "clear_session()\n",
    "model = Sequential([\n",
    "    LSTM(64, activation='relu', input_shape=(x.shape[1], x.shape[2])), # input_shape를 설정하여 입력 데이터의 형태에 맞춰줍니다.\n",
    "    Dense(32, activation='relu'),\n",
    "    Dense(16, activation='relu'),\n",
    "    Dense(1)  # 출력 값이 하나이므로, 출력 레이어에 한 개의 뉴런을 사용합니다.\n",
    "])\n",
    "\n",
    "# 모델 컴파일\n",
    "model.compile(\n",
    "    optimizer='adam',\n",
    "    loss='mae',\n",
    "    metrics='accuracy'\n",
    ")\n",
    "\n",
    "# 모델 훈련\n",
    "history = model.fit(x, y, epochs=100, batch_size=32, verbose=0)\n",
    "model.summary()"
   ]
  },
  {
   "cell_type": "code",
   "execution_count": 85,
   "metadata": {},
   "outputs": [],
   "source": [
    "## 학습도 시킬 것\n",
    "\n",
    "lr_reduction = ReduceLROnPlateau(monitor='val_loss',\n",
    "                                patience=4,\n",
    "                                verbose=1,\n",
    "                                factor=0.2,\n",
    "                                min_lr = 0.000001)\n",
    "es = EarlyStopping(monitor='val_loss',\n",
    "                  min_delta = 0,\n",
    "                  patience=5,\n",
    "                  verbose=1,\n",
    "                  restore_best_weights=True)"
   ]
  },
  {
   "cell_type": "code",
   "execution_count": 90,
   "metadata": {},
   "outputs": [
    {
     "name": "stdout",
     "output_type": "stream",
     "text": [
      "Epoch 1/30\n",
      "1/1 [==============================] - 0s 235ms/step - loss: 1.0011 - accuracy: 0.1111 - val_loss: 2.9718 - val_accuracy: 0.0000e+00 - lr: 2.0000e-04\n",
      "Epoch 2/30\n",
      "1/1 [==============================] - 0s 65ms/step - loss: 1.0011 - accuracy: 0.1111 - val_loss: 2.9771 - val_accuracy: 0.0000e+00 - lr: 2.0000e-04\n",
      "Epoch 3/30\n",
      "1/1 [==============================] - 0s 96ms/step - loss: 0.9965 - accuracy: 0.1111 - val_loss: 2.9922 - val_accuracy: 0.0000e+00 - lr: 2.0000e-04\n",
      "Epoch 4/30\n",
      "1/1 [==============================] - 0s 87ms/step - loss: 0.9882 - accuracy: 0.1111 - val_loss: 3.0155 - val_accuracy: 0.0000e+00 - lr: 2.0000e-04\n",
      "Epoch 5/30\n",
      "1/1 [==============================] - ETA: 0s - loss: 0.9768 - accuracy: 0.1111\n",
      "Epoch 5: ReduceLROnPlateau reducing learning rate to 4.0000001899898055e-05.\n",
      "1/1 [==============================] - 0s 86ms/step - loss: 0.9768 - accuracy: 0.1111 - val_loss: 3.0457 - val_accuracy: 0.0000e+00 - lr: 2.0000e-04\n",
      "Epoch 6/30\n",
      "1/1 [==============================] - ETA: 0s - loss: 0.9630 - accuracy: 0.1111Restoring model weights from the end of the best epoch: 1.\n",
      "1/1 [==============================] - 0s 101ms/step - loss: 0.9630 - accuracy: 0.1111 - val_loss: 3.0529 - val_accuracy: 0.0000e+00 - lr: 4.0000e-05\n",
      "Epoch 6: early stopping\n"
     ]
    },
    {
     "data": {
      "text/plain": [
       "<keras.src.callbacks.History at 0x1dba881c100>"
      ]
     },
     "execution_count": 90,
     "metadata": {},
     "output_type": "execute_result"
    }
   ],
   "source": [
    "\n",
    "model.fit(train_x, train_y, epochs=30, verbose=1, validation_data=(val_x, val_y)\n",
    ",callbacks=[lr_reduction, es],)"
   ]
  },
  {
   "cell_type": "code",
   "execution_count": 94,
   "metadata": {},
   "outputs": [
    {
     "name": "stdout",
     "output_type": "stream",
     "text": [
      "1/1 [==============================] - 0s 38ms/step\n",
      "[[4.242895 ]\n",
      " [4.3680563]\n",
      " [3.234794 ]\n",
      " [5.773211 ]\n",
      " [1.4502974]]\n",
      "[[[0]\n",
      "  [0]\n",
      "  [0]\n",
      "  [4]]\n",
      "\n",
      " [[0]\n",
      "  [0]\n",
      "  [4]\n",
      "  [6]]\n",
      "\n",
      " [[0]\n",
      "  [0]\n",
      "  [0]\n",
      "  [1]]\n",
      "\n",
      " [[0]\n",
      "  [0]\n",
      "  [0]\n",
      "  [8]]\n",
      "\n",
      " [[1]\n",
      "  [9]\n",
      "  [5]\n",
      "  [3]]]\n"
     ]
    }
   ],
   "source": [
    "pred_y = model.predict(test_x)\n",
    "print(pred_y)\n",
    "print(test_x)"
   ]
  },
  {
   "cell_type": "code",
   "execution_count": null,
   "metadata": {},
   "outputs": [],
   "source": []
  }
 ],
 "metadata": {
  "kernelspec": {
   "display_name": "ai_env",
   "language": "python",
   "name": "python3"
  },
  "language_info": {
   "codemirror_mode": {
    "name": "ipython",
    "version": 3
   },
   "file_extension": ".py",
   "mimetype": "text/x-python",
   "name": "python",
   "nbconvert_exporter": "python",
   "pygments_lexer": "ipython3",
   "version": "3.10.12"
  },
  "orig_nbformat": 4
 },
 "nbformat": 4,
 "nbformat_minor": 2
}
